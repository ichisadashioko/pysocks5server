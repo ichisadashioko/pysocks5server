{
	"cells": [
		{
			"cell_type": "code",
			"execution_count": 1,
			"id": "ultimate-lotus",
			"metadata": {},
			"outputs": [],
			"source": [
				"import socket"
			]
		},
		{
			"cell_type": "code",
			"execution_count": 9,
			"id": "developmental-letters",
			"metadata": {},
			"outputs": [
				{
					"data": {
						"text/plain": [
							"<socket.socket fd=604, family=AddressFamily.AF_INET, type=SocketKind.SOCK_STREAM, proto=0>"
						]
					},
					"execution_count": 9,
					"metadata": {},
					"output_type": "execute_result"
				}
			],
			"source": [
				"socket_obj = socket.socket(socket.AF_INET, socket.SOCK_STREAM)\n",
				"socket_obj"
			]
		},
		{
			"cell_type": "code",
			"execution_count": 10,
			"id": "adapted-mystery",
			"metadata": {},
			"outputs": [
				{
					"name": "stdout",
					"output_type": "stream",
					"text": [
						"None\n"
					]
				}
			],
			"source": [
				"retval = socket_obj.connect((b'google.com', 80,))\n",
				"print(retval)"
			]
		},
		{
			"cell_type": "code",
			"execution_count": 11,
			"id": "partial-preparation",
			"metadata": {},
			"outputs": [],
			"source": [
				"socket_obj.gettimeout()"
			]
		},
		{
			"cell_type": "code",
			"execution_count": 12,
			"id": "raised-outside",
			"metadata": {},
			"outputs": [
				{
					"data": {
						"text/plain": [
							"('172.217.27.46', 80)"
						]
					},
					"execution_count": 12,
					"metadata": {},
					"output_type": "execute_result"
				}
			],
			"source": [
				"socket_obj.getpeername()"
			]
		},
		{
			"cell_type": "code",
			"execution_count": 13,
			"id": "agreed-mother",
			"metadata": {},
			"outputs": [
				{
					"data": {
						"text/plain": [
							"('192.168.0.7', 49807)"
						]
					},
					"execution_count": 13,
					"metadata": {},
					"output_type": "execute_result"
				}
			],
			"source": [
				"socket_obj.getsockname()"
			]
		},
		{
			"cell_type": "code",
			"execution_count": 15,
			"id": "imposed-shooting",
			"metadata": {},
			"outputs": [
				{
					"data": {
						"text/plain": [
							"True"
						]
					},
					"execution_count": 15,
					"metadata": {},
					"output_type": "execute_result"
				}
			],
			"source": [
				"socket_obj.getblocking()"
			]
		},
		{
			"cell_type": "code",
			"execution_count": null,
			"id": "premier-nylon",
			"metadata": {},
			"outputs": [],
			"source": [
				"retval = socket_obj.recv(1024)\n",
				"print(retval)"
			]
		}
	],
	"metadata": {
		"kernelspec": {
			"display_name": "Python 3",
			"language": "python",
			"name": "python3"
		},
		"language_info": {
			"codemirror_mode": {
				"name": "ipython",
				"version": 3
			},
			"file_extension": ".py",
			"mimetype": "text/x-python",
			"name": "python",
			"nbconvert_exporter": "python",
			"pygments_lexer": "ipython3"
		}
	},
	"nbformat": 4,
	"nbformat_minor": 5
}
